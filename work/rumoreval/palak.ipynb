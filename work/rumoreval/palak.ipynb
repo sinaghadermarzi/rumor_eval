{
 "cells": [
  {
   "cell_type": "code",
   "execution_count": 81,
   "metadata": {},
   "outputs": [
    {
     "name": "stdout",
     "output_type": "stream",
     "text": [
      "[nltk_data] Downloading package stopwords to\n",
      "[nltk_data]     /Users/emiljoswin/nltk_data...\n",
      "[nltk_data]   Package stopwords is already up-to-date!\n"
     ]
    }
   ],
   "source": [
    "import json, re\n",
    "import nltk\n",
    "import numpy as np\n",
    "from sklearn.metrics import accuracy_score\n",
    "nltk.download('stopwords')\n",
    "from nltk.corpus import stopwords\n",
    "from nltk.stem.porter import PorterStemmer\n",
    "\n",
    "filenames = [\n",
    "    'charliehebdo',\n",
    "    'ferguson',\n",
    "    'illary',\n",
    "    'prince-toronto',\n",
    "    'sydneysiege',\n",
    "    'ebola-essien',\n",
    "    'germanwings-crash',\n",
    "    'ottawashooting',\n",
    "    'putinmissing'\n",
    "]\n"
   ]
  },
  {
   "cell_type": "code",
   "execution_count": 142,
   "metadata": {},
   "outputs": [],
   "source": [
    "def load_data_from_file(name):\n",
    "    filename = 'parsed_files/' + name + '.json'\n",
    "    # print(filename)\n",
    "\n",
    "    try:\n",
    "        with open(filename) as f:\n",
    "            tweets = json.load(f)\n",
    "    except Exception as e:\n",
    "        print(\"Exception\")\n",
    "        print(e.message)\n",
    "\n",
    "    return tweets"
   ]
  },
  {
   "cell_type": "code",
   "execution_count": 191,
   "metadata": {},
   "outputs": [
    {
     "name": "stderr",
     "output_type": "stream",
     "text": [
      "<>:23: DeprecationWarning: invalid escape sequence \\S\n",
      "<>:25: DeprecationWarning: invalid escape sequence \\?\n",
      "<>:23: DeprecationWarning: invalid escape sequence \\S\n",
      "<>:25: DeprecationWarning: invalid escape sequence \\?\n",
      "<>:23: DeprecationWarning: invalid escape sequence \\S\n",
      "<>:25: DeprecationWarning: invalid escape sequence \\?\n",
      "<ipython-input-191-525fe5ed1442>:23: DeprecationWarning: invalid escape sequence \\S\n",
      "  cleanText = re.sub('http(\\S)+', 'http', oneReply)\n",
      "<ipython-input-191-525fe5ed1442>:25: DeprecationWarning: invalid escape sequence \\?\n",
      "  cleanText = re.sub('[^a-zA-Z\\?]', ' ', cleanText) #TODO - What is this? Check with individual tweets\n"
     ]
    }
   ],
   "source": [
    "repliesText = []\n",
    "reply_labels = []\n",
    "corpus = []\n",
    "\n",
    "def prepare_data(filenames):\n",
    "    for name in filenames:\n",
    "        t = load_data_from_file(name)\n",
    "\n",
    "        for i in range(len(t[name])):\n",
    "            thread = t[name][i]\n",
    "            reply_list = thread['replies']\n",
    "            for reply in reply_list:\n",
    "                text = reply[\"text\"]\n",
    "                label = reply[\"label\"]\n",
    "                repliesText.append(text)\n",
    "                reply_labels.append(label)\n",
    "        # print (reply_labels)\n",
    "\n",
    "    # Data Cleaning\n",
    "    ps = PorterStemmer()\n",
    "    for oneReply in repliesText:\n",
    "#         cleanText = re.sub('@(\\S)+', ' ', oneReply)\n",
    "        cleanText = re.sub('http(\\S)+', 'http', oneReply)\n",
    "#         print('before', cleanText)\n",
    "        cleanText = re.sub('[^a-zA-Z\\?]', ' ', cleanText) #TODO - What is this? Check with individual tweets\n",
    "#         print('after', cleanText)\n",
    "        cleanText = cleanText.lower()\n",
    "\n",
    "        splitCleanText = cleanText.split()\n",
    "#         splitCleanText = [word for word in splitCleanText if not word in set(stopwords.words('english'))] # TODO\n",
    "\n",
    "        str = \"\"\n",
    "        for oneWord in splitCleanText:\n",
    "#             oneWord = ps.stem(oneWord) # TODO - stemming is a too aggressive here\n",
    "            str += (' '+ oneWord)\n",
    "            # str = ' '.join(oneWord)\n",
    "\n",
    "        corpus.append(str)\n",
    "    #print(corpus)\n",
    "\n",
    "prepare_data(filenames)"
   ]
  },
  {
   "cell_type": "code",
   "execution_count": null,
   "metadata": {},
   "outputs": [],
   "source": []
  },
  {
   "cell_type": "code",
   "execution_count": 204,
   "metadata": {},
   "outputs": [
    {
     "name": "stdout",
     "output_type": "stream",
     "text": [
      "(5046, 300)\n",
      "(5046, 50)\n",
      "[-0.50364183  0.59760134  0.75412388  0.08200889 -1.11842937  0.73789607\n",
      "  0.01713684 -0.40342027 -1.69394926  0.29594779 -0.00997293 -0.67703234\n",
      "  0.3046279   0.64358893  0.06606595  0.16408106 -0.27781602 -0.28056901\n",
      " -0.48747965  0.59003145 -0.70382482 -0.51791423 -0.82523317  0.42981645\n",
      " -0.10495462  0.29722915  0.08101012  0.0930852   0.60049764 -0.54703542\n",
      " -0.52634196 -0.12924818 -0.33456711  0.10533146 -0.03477571  0.86100767\n",
      " -1.64900467 -0.56917378  0.37898595 -0.6749119   1.42205978 -1.76284102\n",
      "  0.39352608  1.13755393 -0.7650242  -0.50572653  2.05657469  0.42315034\n",
      " -2.56778413 -0.00456721]\n"
     ]
    }
   ],
   "source": [
    "# print(corpus)\n",
    "\n",
    "\n",
    "from sklearn.feature_extraction.text import TfidfVectorizer, CountVectorizer\n",
    "\n",
    "# cv = TfidfVectorizer(analyzer='word', ngram_range=(1,4), min_df = 0, stop_words = 'english', max_features= 500)\n",
    "cv = TfidfVectorizer(analyzer='word', ngram_range=(1,4), min_df = 1, max_features= 300, norm='l2')\n",
    "\n",
    "# TODO - this uses English stopwords already\n",
    "# TODO - ngram_range (1, 3) 1, 2 and 3 grams are used.\n",
    "# TODO - min_df => Ignore terms that have document frequency lower that 0.\n",
    "# TODO - max_features =>  build a vocabulary that only consider the top max_features \n",
    "#                         ordered by term frequency across the corpus.\n",
    "\n",
    "X = cv.fit_transform(corpus).toarray()\n",
    "# TODO - By this point the tf-idf vectorization is already complete. Shouldn't we do this after SMOTE?\n",
    "y = reply_labels\n",
    "\n",
    "\n",
    "from sklearn.decomposition import PCA\n",
    "n_components = 50\n",
    "pca = PCA(n_components=n_components, svd_solver='randomized',\n",
    "          whiten=True).fit(X)\n",
    "\n",
    "print(X.shape)\n",
    "X = pca.transform(X)\n",
    "print(X.shape)\n",
    "print(X[0])\n",
    "# from sklearn.decomposition import TruncatedSVD\n",
    "\n",
    "# print(X.shape, X[0])\n",
    "# svd = TruncatedSVD(n_components=5, n_iter=7, random_state=42)\n",
    "# svd.fit(X) \n",
    "# print(X.shape, X[0])"
   ]
  },
  {
   "cell_type": "code",
   "execution_count": 205,
   "metadata": {},
   "outputs": [
    {
     "name": "stdout",
     "output_type": "stream",
     "text": [
      "Before SMOTE\n",
      "[('comment', 3530), ('deny', 397), ('query', 437), ('support', 682)]\n",
      "AFTER SMOTE\n",
      "[('comment', 3530), ('deny', 3530), ('query', 3530), ('support', 3530)]\n"
     ]
    }
   ],
   "source": [
    "from collections import Counter\n",
    "from imblearn.over_sampling import SMOTE # NOTE conda install -c glemaitre imbalanced-learn\n",
    "\n",
    "# TODO - do not do SMOTE on the test/validation sets\n",
    "print(\"Before SMOTE\")\n",
    "print(sorted(Counter(y).items()))\n",
    "\n",
    "from collections import Counter\n",
    "from imblearn.over_sampling import SMOTE\n",
    "smote_enn = SMOTE(random_state=0)\n",
    "X_resampled, y_resampled = smote_enn.fit_sample(X, y) # TODO - fit_resample(X,y) was not working.\n",
    "\n",
    "print(\"AFTER SMOTE\")\n",
    "print(sorted(Counter(y_resampled).items()))"
   ]
  },
  {
   "cell_type": "code",
   "execution_count": 206,
   "metadata": {},
   "outputs": [
    {
     "name": "stdout",
     "output_type": "stream",
     "text": [
      "[('comment', 1033), ('deny', 130), ('query', 137), ('support', 214)]\n",
      "[[931  24  35  43]\n",
      " [103  12   6   9]\n",
      " [115   3  17   2]\n",
      " [148   4   4  58]]\n",
      "precision =  [0.71781033 0.27906977 0.27419355 0.51785714]\n",
      "recall =  [0.90125847 0.09230769 0.12408759 0.27102804]\n",
      "f1 score =  [0.49401729 0.03756848 0.04866549 0.15691762]\n",
      "RF accuracy =  0.6723910171730515\n",
      "\n",
      "\n"
     ]
    }
   ],
   "source": [
    "\n",
    "# step : cross-validation\n",
    "from sklearn.model_selection import train_test_split\n",
    "import sklearn\n",
    "# X_train, X_test, y_train, y_test = train_test_split(X_resampled, y_resampled, test_size=0.40, random_state=0)\n",
    "\n",
    "X_train, X_test, y_train, y_test = train_test_split(X, y, test_size=0.30, random_state=0)\n",
    "\n",
    "from imblearn.over_sampling import SMOTE\n",
    "from imblearn.over_sampling import RandomOverSampler \n",
    "# from imblearn.over_sampling import ADASYN\n",
    "\n",
    "# from imblearn.over_sampling import BorderlineSMOTE # Not available in this version I guess\n",
    "# from imblearn.over_sampling import SMOTENC\n",
    "# smote_enn = SMOTE(ratio={'deny': 2000, 'query': 2000, 'support': 2000}, random_state=2, kind='regular', svm_estimator=sklearn.svm.SVC, out_step=0.1)\n",
    "\n",
    "smote_enn = SMOTE(ratio={'deny': 1500, 'query': 1500, 'support': 1500})\n",
    "# smote_enn = SMOTE()\n",
    "X_smote, y_smote = smote_enn.fit_sample(X_train, y_train)\n",
    "\n",
    "\n",
    "#step: Classifier\n",
    "from sklearn.ensemble import RandomForestClassifier\n",
    "\n",
    "clf = RandomForestClassifier(n_estimators=100)\n",
    "clf.fit(X_smote, y_smote)\n",
    "# clf.fit(X_train, y_train)\n",
    "y_predict = clf.predict(X_test)\n",
    "\n",
    "print(sorted(Counter(y_test).items()))\n",
    "\n",
    "\n",
    "from sklearn.metrics import confusion_matrix\n",
    "cm = confusion_matrix(y_test, y_predict)\n",
    "print(cm)\n",
    "#print(len(reply_labels)\n",
    "recall = np.diag(cm) / np.sum(cm, axis=1)\n",
    "precision = np.diag(cm)/ np.sum(cm, axis=0)\n",
    "\n",
    "f1_score = 2* (precision*recall)/(precision + recall + 1)\n",
    "acc = accuracy_score(y_test, y_predict)\n",
    "print('precision = ',precision)\n",
    "print('recall = ', recall)\n",
    "print('f1 score = ',f1_score)\n",
    "print('RF accuracy = ',acc)\n",
    "\n",
    "print(\"\\n\")"
   ]
  },
  {
   "cell_type": "code",
   "execution_count": null,
   "metadata": {},
   "outputs": [],
   "source": []
  }
 ],
 "metadata": {
  "kernelspec": {
   "display_name": "Python 3",
   "language": "python",
   "name": "python3"
  },
  "language_info": {
   "codemirror_mode": {
    "name": "ipython",
    "version": 3
   },
   "file_extension": ".py",
   "mimetype": "text/x-python",
   "name": "python",
   "nbconvert_exporter": "python",
   "pygments_lexer": "ipython3",
   "version": "3.6.6"
  }
 },
 "nbformat": 4,
 "nbformat_minor": 2
}
