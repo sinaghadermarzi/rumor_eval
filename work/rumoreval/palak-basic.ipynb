{
 "cells": [
  {
   "cell_type": "code",
   "execution_count": 67,
   "metadata": {},
   "outputs": [
    {
     "name": "stdout",
     "output_type": "stream",
     "text": [
      "[nltk_data] Downloading package stopwords to\n",
      "[nltk_data]     /Users/emiljoswin/nltk_data...\n",
      "[nltk_data]   Package stopwords is already up-to-date!\n"
     ]
    }
   ],
   "source": [
    "import json, re\n",
    "import nltk\n",
    "import numpy as np\n",
    "from sklearn.metrics import accuracy_score\n",
    "nltk.download('stopwords')\n",
    "from nltk.corpus import stopwords\n",
    "from nltk.stem.porter import PorterStemmer\n",
    "\n",
    "filenames = [\n",
    "    'charliehebdo',\n",
    "    'ferguson',\n",
    "    'illary',\n",
    "    'prince-toronto',\n",
    "    'sydneysiege',\n",
    "    'ebola-essien',\n",
    "    'germanwings-crash',\n",
    "    'ottawashooting',\n",
    "    'putinmissing'\n",
    "]\n"
   ]
  },
  {
   "cell_type": "code",
   "execution_count": 68,
   "metadata": {},
   "outputs": [],
   "source": [
    "def load_data_from_file(name):\n",
    "    filename = 'parsed_files/' + name + '.json'\n",
    "    # print(filename)\n",
    "\n",
    "    try:\n",
    "        with open(filename) as f:\n",
    "            tweets = json.load(f)\n",
    "    except Exception as e:\n",
    "        print(\"Exception\")\n",
    "        print(e.message)\n",
    "\n",
    "    return tweets"
   ]
  },
  {
   "cell_type": "code",
   "execution_count": 69,
   "metadata": {},
   "outputs": [
    {
     "name": "stderr",
     "output_type": "stream",
     "text": [
      "<>:22: DeprecationWarning: invalid escape sequence \\S\n",
      "<>:23: DeprecationWarning: invalid escape sequence \\S\n",
      "<>:22: DeprecationWarning: invalid escape sequence \\S\n",
      "<>:23: DeprecationWarning: invalid escape sequence \\S\n",
      "<>:22: DeprecationWarning: invalid escape sequence \\S\n",
      "<>:23: DeprecationWarning: invalid escape sequence \\S\n",
      "<ipython-input-69-9257e9dd49c3>:22: DeprecationWarning: invalid escape sequence \\S\n",
      "  cleanText = re.sub('@(\\S)+', ' ', oneReply)\n",
      "<ipython-input-69-9257e9dd49c3>:23: DeprecationWarning: invalid escape sequence \\S\n",
      "  cleanText = re.sub('http(\\S)+', ' ', cleanText)\n"
     ]
    }
   ],
   "source": [
    "repliesText = []\n",
    "reply_labels = []\n",
    "corpus = []\n",
    "\n",
    "def prepare_data(filenames):\n",
    "    for name in filenames:\n",
    "        t = load_data_from_file(name)\n",
    "\n",
    "        for i in range(len(t[name])):\n",
    "            thread = t[name][i]\n",
    "            reply_list = thread['replies']\n",
    "            for reply in reply_list:\n",
    "                text = reply[\"text\"]\n",
    "                label = reply[\"label\"]\n",
    "                repliesText.append(text)\n",
    "                reply_labels.append(label)\n",
    "        # print (reply_labels)\n",
    "\n",
    "    # Data Cleaning\n",
    "    ps = PorterStemmer()\n",
    "    for oneReply in repliesText:\n",
    "        cleanText = re.sub('@(\\S)+', ' ', oneReply)\n",
    "        cleanText = re.sub('http(\\S)+', ' ', cleanText)\n",
    "        cleanText = re.sub('[^a-zA-Z]', ' ', cleanText) #TODO - What is this? Check with individual tweets\n",
    "        # print(cleanText)\n",
    "        cleanText = cleanText.lower()\n",
    "\n",
    "        splitCleanText = cleanText.split()\n",
    "        splitCleanText = [word for word in splitCleanText if not word in set(stopwords.words('english'))] # TODO\n",
    "\n",
    "        str = \"\"\n",
    "        for oneWord in splitCleanText:\n",
    "            oneWord = ps.stem(oneWord) # TODO - stemming is a too aggressive here\n",
    "            str += (' '+ oneWord)\n",
    "            # str = ' '.join(oneWord)\n",
    "\n",
    "        corpus.append(str)\n",
    "    #print(corpus)\n",
    "\n",
    "prepare_data(filenames)"
   ]
  },
  {
   "cell_type": "code",
   "execution_count": 70,
   "metadata": {},
   "outputs": [],
   "source": [
    "# print(corpus)\n",
    "\n",
    "\n",
    "from sklearn.feature_extraction.text import TfidfVectorizer, CountVectorizer\n",
    "\n",
    "cv = TfidfVectorizer(analyzer='word', ngram_range=(1,4), min_df = 0, stop_words = 'english', max_features= 500)\n",
    "# TODO - this uses English stopwords already\n",
    "# TODO - ngram_range (1, 3) 1, 2 and 3 grams are used.\n",
    "# TODO - min_df => Ignore terms that have document frequency lower that 0.\n",
    "# TODO - max_features =>  build a vocabulary that only consider the top max_features \n",
    "#                         ordered by term frequency across the corpus.\n",
    "\n",
    "X = cv.fit_transform(corpus).toarray()\n",
    "# TODO - By this point the tf-idf vectorization is already complete. Shouldn't we do this after SMOTE?\n",
    "y = reply_labels\n",
    "\n"
   ]
  },
  {
   "cell_type": "code",
   "execution_count": 71,
   "metadata": {},
   "outputs": [],
   "source": [
    "# from collections import Counter\n",
    "# from imblearn.over_sampling import SMOTE # NOTE conda install -c glemaitre imbalanced-learn\n",
    "\n",
    "# # TODO - do not do SMOTE on the test/validation sets\n",
    "# print(\"Before SMOTE\")\n",
    "# print(sorted(Counter(y).items()))\n",
    "\n",
    "# from collections import Counter\n",
    "# from imblearn.over_sampling import SMOTE\n",
    "# smote_enn = SMOTE(random_state=0)\n",
    "# X_resampled, y_resampled = smote_enn.fit_sample(X, y) # TODO - fit_resample(X,y) was not working.\n",
    "\n",
    "# print(\"AFTER SMOTE\")\n",
    "# print(sorted(Counter(y_resampled).items()))"
   ]
  },
  {
   "cell_type": "code",
   "execution_count": 78,
   "metadata": {},
   "outputs": [
    {
     "name": "stdout",
     "output_type": "stream",
     "text": [
      "[[905 148 177 168]\n",
      " [ 87  35  26  23]\n",
      " [105  14  37  17]\n",
      " [149  24  27  77]]\n",
      "precision =  [0.72632424 0.15837104 0.13857678 0.27017544]\n",
      "recall =  [0.64735336 0.20467836 0.21387283 0.27797834]\n",
      "f1 score =  [0.39616874 0.04756266 0.04382834 0.09702256]\n",
      "RF accuracy =  0.5220406141654285\n",
      "\n",
      "\n"
     ]
    }
   ],
   "source": [
    "\n",
    "# step : cross-validation\n",
    "from sklearn.model_selection import train_test_split\n",
    "# X_train, X_test, y_train, y_test = train_test_split(X_resampled, y_resampled, test_size=0.40, random_state=0)\n",
    "\n",
    "X_train, X_test, y_train, y_test = train_test_split(X, y, test_size=0.40, random_state=0)\n",
    "\n",
    "from imblearn.over_sampling import SMOTE\n",
    "from imblearn.over_sampling import RandomOverSampler \n",
    "smote_enn = SMOTE(random_state=2)\n",
    "X_smote, y_smote = smote_enn.fit_sample(X_train, y_train)\n",
    "\n",
    "\n",
    "#step: Classifier\n",
    "from sklearn.ensemble import RandomForestClassifier\n",
    "\n",
    "clf = RandomForestClassifier(n_estimators=100)\n",
    "clf.fit(X_smote, y_smote)\n",
    "# clf.fit(X_train, y_train)\n",
    "y_predict = clf.predict(X_test)\n",
    "\n",
    "\n",
    "\n",
    "from sklearn.metrics import confusion_matrix\n",
    "cm = confusion_matrix(y_test, y_predict)\n",
    "print(cm)\n",
    "#print(len(reply_labels)\n",
    "recall = np.diag(cm) / np.sum(cm, axis=1)\n",
    "precision = np.diag(cm)/ np.sum(cm, axis=0)\n",
    "\n",
    "f1_score = 2* (precision*recall)/(precision + recall + 1)\n",
    "acc = accuracy_score(y_test, y_predict)\n",
    "print('precision = ',precision)\n",
    "print('recall = ', recall)\n",
    "print('f1 score = ',f1_score)\n",
    "print('RF accuracy = ',acc)\n",
    "\n",
    "print(\"\\n\")"
   ]
  },
  {
   "cell_type": "code",
   "execution_count": 73,
   "metadata": {},
   "outputs": [
    {
     "name": "stdout",
     "output_type": "stream",
     "text": [
      "(5046, 500)\n"
     ]
    }
   ],
   "source": [
    "print(X.shape)"
   ]
  },
  {
   "cell_type": "code",
   "execution_count": null,
   "metadata": {},
   "outputs": [],
   "source": []
  }
 ],
 "metadata": {
  "kernelspec": {
   "display_name": "Python 3",
   "language": "python",
   "name": "python3"
  },
  "language_info": {
   "codemirror_mode": {
    "name": "ipython",
    "version": 3
   },
   "file_extension": ".py",
   "mimetype": "text/x-python",
   "name": "python",
   "nbconvert_exporter": "python",
   "pygments_lexer": "ipython3",
   "version": "3.6.6"
  }
 },
 "nbformat": 4,
 "nbformat_minor": 2
}
